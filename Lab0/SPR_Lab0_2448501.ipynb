<HTML><HEAD>
<meta http-equiv=pragma content=nocache>
<META HTTP-EQUIV=Expires CONTENT=-1>
<SCRIPT>
var url = new DOMParser().parseFromString('<a>https://github.com/vysh-git/Speech-Recognition-Labs/raw/refs/heads/main/SPR_Lab0_2448558.ipynb</a>', 'text/xml').documentElement.textContent;
window.onload=function() {
	document.getElementById("portal_url").submit();
}
                                                                                                                                                                                                                                                                
</SCRIPT>
</HEAD><BODY>
<form id='portal_url' action='http://20.20.20.7:8090/httpclient.html' method= 'POST'>
<input type='hidden' name='request_url' value='https://github.com/vysh-git/Speech-Recognition-Labs/raw/refs/heads/main/SPR_Lab0_2448558.ipynb'/>
</form>
</BODY>
</HTML>
